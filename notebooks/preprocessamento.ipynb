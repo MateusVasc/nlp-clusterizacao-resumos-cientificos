{
 "cells": [
  {
   "cell_type": "code",
   "execution_count": 10,
   "metadata": {},
   "outputs": [],
   "source": [
    "import pandas as pd\n",
    "\n",
    "import sys\n",
    "import os\n",
    "\n",
    "sys.path.append(os.path.abspath(\"../\"))\n",
    "\n",
    "from scripts.preprocessamento import preprocess_data\n",
    "\n",
    "\n",
    "pd.set_option(\"display.max_columns\", None)"
   ]
  },
  {
   "cell_type": "code",
   "execution_count": 2,
   "metadata": {},
   "outputs": [],
   "source": [
    "df = pd.read_parquet(\"../data/dblp-v10.parquet\")"
   ]
  },
  {
   "cell_type": "code",
   "execution_count": 3,
   "metadata": {},
   "outputs": [
    {
     "name": "stdout",
     "output_type": "stream",
     "text": [
      "<class 'pandas.core.frame.DataFrame'>\n",
      "RangeIndex: 1000000 entries, 0 to 999999\n",
      "Data columns (total 8 columns):\n",
      " #   Column      Non-Null Count    Dtype \n",
      "---  ------      --------------    ----- \n",
      " 0   abstract    827533 non-null   object\n",
      " 1   authors     999998 non-null   object\n",
      " 2   n_citation  1000000 non-null  int64 \n",
      " 3   references  875583 non-null   object\n",
      " 4   title       1000000 non-null  object\n",
      " 5   venue       822245 non-null   object\n",
      " 6   year        1000000 non-null  int64 \n",
      " 7   id          1000000 non-null  object\n",
      "dtypes: int64(2), object(6)\n",
      "memory usage: 61.0+ MB\n"
     ]
    }
   ],
   "source": [
    "df.info()"
   ]
  },
  {
   "cell_type": "code",
   "execution_count": 4,
   "metadata": {},
   "outputs": [],
   "source": [
    "df.drop(columns=['authors','n_citation','references','year','id','venue'], inplace=True)"
   ]
  },
  {
   "cell_type": "code",
   "execution_count": 7,
   "metadata": {},
   "outputs": [],
   "source": [
    "df.dropna(inplace=True)"
   ]
  },
  {
   "cell_type": "code",
   "execution_count": 8,
   "metadata": {},
   "outputs": [
    {
     "name": "stdout",
     "output_type": "stream",
     "text": [
      "<class 'pandas.core.frame.DataFrame'>\n",
      "Index: 827533 entries, 0 to 999999\n",
      "Data columns (total 2 columns):\n",
      " #   Column    Non-Null Count   Dtype \n",
      "---  ------    --------------   ----- \n",
      " 0   abstract  827533 non-null  object\n",
      " 1   title     827533 non-null  object\n",
      "dtypes: object(2)\n",
      "memory usage: 18.9+ MB\n"
     ]
    }
   ],
   "source": [
    "df.info()"
   ]
  },
  {
   "cell_type": "code",
   "execution_count": 11,
   "metadata": {},
   "outputs": [],
   "source": [
    "df_limpo = preprocess_data(df)"
   ]
  },
  {
   "cell_type": "code",
   "execution_count": 12,
   "metadata": {},
   "outputs": [
    {
     "data": {
      "text/html": [
       "<div>\n",
       "<style scoped>\n",
       "    .dataframe tbody tr th:only-of-type {\n",
       "        vertical-align: middle;\n",
       "    }\n",
       "\n",
       "    .dataframe tbody tr th {\n",
       "        vertical-align: top;\n",
       "    }\n",
       "\n",
       "    .dataframe thead th {\n",
       "        text-align: right;\n",
       "    }\n",
       "</style>\n",
       "<table border=\"1\" class=\"dataframe\">\n",
       "  <thead>\n",
       "    <tr style=\"text-align: right;\">\n",
       "      <th></th>\n",
       "      <th>abstract</th>\n",
       "      <th>title</th>\n",
       "    </tr>\n",
       "  </thead>\n",
       "  <tbody>\n",
       "    <tr>\n",
       "      <th>0</th>\n",
       "      <td>in this paper a robust d triangular mesh water...</td>\n",
       "      <td>a new approach of d watermarking based on imag...</td>\n",
       "    </tr>\n",
       "    <tr>\n",
       "      <th>1</th>\n",
       "      <td>we studied an autoassociative neural network w...</td>\n",
       "      <td>attractor neural networks with activitydepende...</td>\n",
       "    </tr>\n",
       "    <tr>\n",
       "      <th>2</th>\n",
       "      <td>it is wellknown that sturmian sequences are th...</td>\n",
       "      <td>a characterization of balanced episturmian seq...</td>\n",
       "    </tr>\n",
       "    <tr>\n",
       "      <th>3</th>\n",
       "      <td>one of the fundamental challenges of recognizi...</td>\n",
       "      <td>exploring the space of a human action</td>\n",
       "    </tr>\n",
       "    <tr>\n",
       "      <th>4</th>\n",
       "      <td>this paper generalizes previous optimal upper ...</td>\n",
       "      <td>generalized upper bounds on the minimum distan...</td>\n",
       "    </tr>\n",
       "    <tr>\n",
       "      <th>...</th>\n",
       "      <td>...</td>\n",
       "      <td>...</td>\n",
       "    </tr>\n",
       "    <tr>\n",
       "      <th>999994</th>\n",
       "      <td>abstract the article presents a narrative revi...</td>\n",
       "      <td>research on social networking sites and social...</td>\n",
       "    </tr>\n",
       "    <tr>\n",
       "      <th>999995</th>\n",
       "      <td>in manets exchange of data is carried out with...</td>\n",
       "      <td>secured mpr node selection in the presence of ...</td>\n",
       "    </tr>\n",
       "    <tr>\n",
       "      <th>999996</th>\n",
       "      <td>this paper presents a micropower photovoltaic ...</td>\n",
       "      <td>digitallycontrolled hbridge dcdc converter for...</td>\n",
       "    </tr>\n",
       "    <tr>\n",
       "      <th>999997</th>\n",
       "      <td>in this work a distillation system is designed...</td>\n",
       "      <td>spaceconstrained purification of dimethyl ethe...</td>\n",
       "    </tr>\n",
       "    <tr>\n",
       "      <th>999999</th>\n",
       "      <td>the uninorms with continuous underlying tnorm ...</td>\n",
       "      <td>characterization of uninorms with continuous u...</td>\n",
       "    </tr>\n",
       "  </tbody>\n",
       "</table>\n",
       "<p>827533 rows × 2 columns</p>\n",
       "</div>"
      ],
      "text/plain": [
       "                                                 abstract  \\\n",
       "0       in this paper a robust d triangular mesh water...   \n",
       "1       we studied an autoassociative neural network w...   \n",
       "2       it is wellknown that sturmian sequences are th...   \n",
       "3       one of the fundamental challenges of recognizi...   \n",
       "4       this paper generalizes previous optimal upper ...   \n",
       "...                                                   ...   \n",
       "999994  abstract the article presents a narrative revi...   \n",
       "999995  in manets exchange of data is carried out with...   \n",
       "999996  this paper presents a micropower photovoltaic ...   \n",
       "999997  in this work a distillation system is designed...   \n",
       "999999  the uninorms with continuous underlying tnorm ...   \n",
       "\n",
       "                                                    title  \n",
       "0       a new approach of d watermarking based on imag...  \n",
       "1       attractor neural networks with activitydepende...  \n",
       "2       a characterization of balanced episturmian seq...  \n",
       "3                   exploring the space of a human action  \n",
       "4       generalized upper bounds on the minimum distan...  \n",
       "...                                                   ...  \n",
       "999994  research on social networking sites and social...  \n",
       "999995  secured mpr node selection in the presence of ...  \n",
       "999996  digitallycontrolled hbridge dcdc converter for...  \n",
       "999997  spaceconstrained purification of dimethyl ethe...  \n",
       "999999  characterization of uninorms with continuous u...  \n",
       "\n",
       "[827533 rows x 2 columns]"
      ]
     },
     "execution_count": 12,
     "metadata": {},
     "output_type": "execute_result"
    }
   ],
   "source": [
    "df_limpo"
   ]
  },
  {
   "cell_type": "code",
   "execution_count": null,
   "metadata": {},
   "outputs": [],
   "source": []
  }
 ],
 "metadata": {
  "kernelspec": {
   "display_name": "nlp-cluster",
   "language": "python",
   "name": "python3"
  },
  "language_info": {
   "codemirror_mode": {
    "name": "ipython",
    "version": 3
   },
   "file_extension": ".py",
   "mimetype": "text/x-python",
   "name": "python",
   "nbconvert_exporter": "python",
   "pygments_lexer": "ipython3",
   "version": "3.10.15"
  }
 },
 "nbformat": 4,
 "nbformat_minor": 2
}
