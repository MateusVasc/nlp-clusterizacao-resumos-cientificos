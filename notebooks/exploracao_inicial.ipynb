{
 "cells": [
  {
   "cell_type": "code",
   "execution_count": 1,
   "metadata": {},
   "outputs": [],
   "source": [
    "import pandas as pd\n",
    "\n",
    "\n",
    "pd.set_option(\"display.max_columns\", None)"
   ]
  },
  {
   "cell_type": "code",
   "execution_count": 2,
   "metadata": {},
   "outputs": [],
   "source": [
    "df = pd.read_parquet(\"../data/dblp-v10.parquet\")"
   ]
  },
  {
   "cell_type": "code",
   "execution_count": 3,
   "metadata": {},
   "outputs": [
    {
     "data": {
      "text/html": [
       "<div>\n",
       "<style scoped>\n",
       "    .dataframe tbody tr th:only-of-type {\n",
       "        vertical-align: middle;\n",
       "    }\n",
       "\n",
       "    .dataframe tbody tr th {\n",
       "        vertical-align: top;\n",
       "    }\n",
       "\n",
       "    .dataframe thead th {\n",
       "        text-align: right;\n",
       "    }\n",
       "</style>\n",
       "<table border=\"1\" class=\"dataframe\">\n",
       "  <thead>\n",
       "    <tr style=\"text-align: right;\">\n",
       "      <th></th>\n",
       "      <th>abstract</th>\n",
       "      <th>authors</th>\n",
       "      <th>n_citation</th>\n",
       "      <th>references</th>\n",
       "      <th>title</th>\n",
       "      <th>venue</th>\n",
       "      <th>year</th>\n",
       "      <th>id</th>\n",
       "    </tr>\n",
       "  </thead>\n",
       "  <tbody>\n",
       "    <tr>\n",
       "      <th>0</th>\n",
       "      <td>In this paper, a robust 3D triangular mesh wat...</td>\n",
       "      <td>['S. Ben Jabra', 'Ezzeddine Zagrouba']</td>\n",
       "      <td>50</td>\n",
       "      <td>['09cb2d7d-47d1-4a85-bfe5-faa8221e644b', '10aa...</td>\n",
       "      <td>A new approach of 3D watermarking based on ima...</td>\n",
       "      <td>international symposium on computers and commu...</td>\n",
       "      <td>2008</td>\n",
       "      <td>4ab3735c-80f1-472d-b953-fa0557fed28b</td>\n",
       "    </tr>\n",
       "    <tr>\n",
       "      <th>1</th>\n",
       "      <td>We studied an autoassociative neural network w...</td>\n",
       "      <td>['Joaquín J. Torres', 'Jesús M. Cortés', 'Joaq...</td>\n",
       "      <td>50</td>\n",
       "      <td>['4017c9d2-9845-4ad2-ad5b-ba65523727c5', 'b118...</td>\n",
       "      <td>Attractor neural networks with activity-depend...</td>\n",
       "      <td>Neurocomputing</td>\n",
       "      <td>2007</td>\n",
       "      <td>4ab39729-af77-46f7-a662-16984fb9c1db</td>\n",
       "    </tr>\n",
       "    <tr>\n",
       "      <th>2</th>\n",
       "      <td>It is well-known that Sturmian sequences are t...</td>\n",
       "      <td>['Genevi eve Paquin', 'Laurent Vuillon']</td>\n",
       "      <td>50</td>\n",
       "      <td>['1c655ee2-067d-4bc4-b8cc-bc779e9a7f10', '2e4e...</td>\n",
       "      <td>A characterization of balanced episturmian seq...</td>\n",
       "      <td>Electronic Journal of Combinatorics</td>\n",
       "      <td>2007</td>\n",
       "      <td>4ab3a4cf-1d96-4ce5-ab6f-b3e19fc260de</td>\n",
       "    </tr>\n",
       "    <tr>\n",
       "      <th>3</th>\n",
       "      <td>One of the fundamental challenges of recognizi...</td>\n",
       "      <td>['Yaser Sheikh', 'Mumtaz Sheikh', 'Mubarak Shah']</td>\n",
       "      <td>221</td>\n",
       "      <td>['056116c1-9e7a-4f9b-a918-44eb199e67d6', '05ac...</td>\n",
       "      <td>Exploring the space of a human action</td>\n",
       "      <td>international conference on computer vision</td>\n",
       "      <td>2005</td>\n",
       "      <td>4ab3a98c-3620-47ec-b578-884ecf4a6206</td>\n",
       "    </tr>\n",
       "    <tr>\n",
       "      <th>4</th>\n",
       "      <td>This paper generalizes previous optimal upper ...</td>\n",
       "      <td>['Efraim Laksman', 'Håkan Lennerstad', 'Magnus...</td>\n",
       "      <td>0</td>\n",
       "      <td>['01a765b8-0cb3-495c-996f-29c36756b435', '5dbc...</td>\n",
       "      <td>Generalized upper bounds on the minimum distan...</td>\n",
       "      <td>Ima Journal of Mathematical Control and Inform...</td>\n",
       "      <td>2015</td>\n",
       "      <td>4ab3b585-82b4-4207-91dd-b6bce7e27c4e</td>\n",
       "    </tr>\n",
       "  </tbody>\n",
       "</table>\n",
       "</div>"
      ],
      "text/plain": [
       "                                            abstract  \\\n",
       "0  In this paper, a robust 3D triangular mesh wat...   \n",
       "1  We studied an autoassociative neural network w...   \n",
       "2  It is well-known that Sturmian sequences are t...   \n",
       "3  One of the fundamental challenges of recognizi...   \n",
       "4  This paper generalizes previous optimal upper ...   \n",
       "\n",
       "                                             authors  n_citation  \\\n",
       "0             ['S. Ben Jabra', 'Ezzeddine Zagrouba']          50   \n",
       "1  ['Joaquín J. Torres', 'Jesús M. Cortés', 'Joaq...          50   \n",
       "2           ['Genevi eve Paquin', 'Laurent Vuillon']          50   \n",
       "3  ['Yaser Sheikh', 'Mumtaz Sheikh', 'Mubarak Shah']         221   \n",
       "4  ['Efraim Laksman', 'Håkan Lennerstad', 'Magnus...           0   \n",
       "\n",
       "                                          references  \\\n",
       "0  ['09cb2d7d-47d1-4a85-bfe5-faa8221e644b', '10aa...   \n",
       "1  ['4017c9d2-9845-4ad2-ad5b-ba65523727c5', 'b118...   \n",
       "2  ['1c655ee2-067d-4bc4-b8cc-bc779e9a7f10', '2e4e...   \n",
       "3  ['056116c1-9e7a-4f9b-a918-44eb199e67d6', '05ac...   \n",
       "4  ['01a765b8-0cb3-495c-996f-29c36756b435', '5dbc...   \n",
       "\n",
       "                                               title  \\\n",
       "0  A new approach of 3D watermarking based on ima...   \n",
       "1  Attractor neural networks with activity-depend...   \n",
       "2  A characterization of balanced episturmian seq...   \n",
       "3              Exploring the space of a human action   \n",
       "4  Generalized upper bounds on the minimum distan...   \n",
       "\n",
       "                                               venue  year  \\\n",
       "0  international symposium on computers and commu...  2008   \n",
       "1                                     Neurocomputing  2007   \n",
       "2                Electronic Journal of Combinatorics  2007   \n",
       "3        international conference on computer vision  2005   \n",
       "4  Ima Journal of Mathematical Control and Inform...  2015   \n",
       "\n",
       "                                     id  \n",
       "0  4ab3735c-80f1-472d-b953-fa0557fed28b  \n",
       "1  4ab39729-af77-46f7-a662-16984fb9c1db  \n",
       "2  4ab3a4cf-1d96-4ce5-ab6f-b3e19fc260de  \n",
       "3  4ab3a98c-3620-47ec-b578-884ecf4a6206  \n",
       "4  4ab3b585-82b4-4207-91dd-b6bce7e27c4e  "
      ]
     },
     "execution_count": 3,
     "metadata": {},
     "output_type": "execute_result"
    }
   ],
   "source": [
    "df.head()"
   ]
  },
  {
   "cell_type": "code",
   "execution_count": 4,
   "metadata": {},
   "outputs": [
    {
     "data": {
      "text/plain": [
       "(1000000, 8)"
      ]
     },
     "execution_count": 4,
     "metadata": {},
     "output_type": "execute_result"
    }
   ],
   "source": [
    "df.shape"
   ]
  },
  {
   "cell_type": "code",
   "execution_count": 5,
   "metadata": {},
   "outputs": [
    {
     "name": "stdout",
     "output_type": "stream",
     "text": [
      "<class 'pandas.core.frame.DataFrame'>\n",
      "RangeIndex: 1000000 entries, 0 to 999999\n",
      "Data columns (total 8 columns):\n",
      " #   Column      Non-Null Count    Dtype \n",
      "---  ------      --------------    ----- \n",
      " 0   abstract    827533 non-null   object\n",
      " 1   authors     999998 non-null   object\n",
      " 2   n_citation  1000000 non-null  int64 \n",
      " 3   references  875583 non-null   object\n",
      " 4   title       1000000 non-null  object\n",
      " 5   venue       822245 non-null   object\n",
      " 6   year        1000000 non-null  int64 \n",
      " 7   id          1000000 non-null  object\n",
      "dtypes: int64(2), object(6)\n",
      "memory usage: 61.0+ MB\n"
     ]
    }
   ],
   "source": [
    "df.info()"
   ]
  },
  {
   "cell_type": "code",
   "execution_count": 6,
   "metadata": {},
   "outputs": [
    {
     "data": {
      "text/plain": [
       "0"
      ]
     },
     "execution_count": 6,
     "metadata": {},
     "output_type": "execute_result"
    }
   ],
   "source": [
    "df.duplicated().sum()"
   ]
  },
  {
   "cell_type": "code",
   "execution_count": 7,
   "metadata": {},
   "outputs": [
    {
     "name": "stdout",
     "output_type": "stream",
     "text": [
      "abstract has 17.25 of null values\n",
      "authors has 0.00 of null values\n",
      "n_citation has 0.00 of null values\n",
      "references has 12.44 of null values\n",
      "title has 0.00 of null values\n",
      "venue has 17.78 of null values\n",
      "year has 0.00 of null values\n",
      "id has 0.00 of null values\n"
     ]
    }
   ],
   "source": [
    "def print_null_percentage(df: pd.DataFrame):\n",
    "    for col in df.columns:\n",
    "        print(f\"{col} has {((df[col].isnull().sum() / df.shape[0]) * 100):.2f} of null values\")\n",
    "\n",
    "\n",
    "print_null_percentage(df)"
   ]
  },
  {
   "cell_type": "markdown",
   "metadata": {},
   "source": [
    "# Documentação das Colunas da Base de Dados\n",
    "\n",
    "A tabela abaixo descreve as colunas presentes na base de dados, incluindo o tipo de dado, uma breve descrição e exemplos para referência.\n",
    "\n",
    "| Nome da Coluna | Tipo de Dado          | Descrição                                                            | Exemplo                                                                                                                               |\n",
    "|----------------|-----------------------|----------------------------------------------------------------------|---------------------------------------------------------------------------------------------------------------------------------------|\n",
    "| `id`           | `string`              | Identificador único do artigo                                        | `013ea675-bb58-42f8-a423-f5534546b2b1`                                                                                                |\n",
    "| `title`        | `string`              | Título do artigo                                                     | `Prediction of consensus binding mode geometries for related chemical series of positive allosteric modulators of adenosine and muscarinic acetylcholine receptors` |\n",
    "| `authors`      | `list of strings`     | Lista de autores do artigo                                           | `[\"Leon A. Sakkal\", \"Kyle Z. Rajkowski\", \"Roger S. Armen\"]`                                                                           |\n",
    "| `venue`        | `string`              | Local de publicação (revista, conferência)                           | `Journal of Computational Chemistry`                                                                                                  |\n",
    "| `year`         | `int`                 | Ano de publicação                                                    | `2017`                                                                                                                                |\n",
    "| `n_citation`   | `int`                 | Número de citações recebidas                                         | `0`                                                                                                                                   |\n",
    "| `references`   | `list of strings`     | Lista de IDs dos artigos citados                                     | `[\"4f4f200c-0764-4fef-9718-b8bccf303dba\", \"aa699fbf-fabe-40e4-bd68-46eaf333f7b1\"]`                                                    |\n",
    "| `abstract`     | `string`              | Resumo do artigo                                                     | `This paper studies ...`                                                                                                              |\n",
    "\n",
    "### Exemplo de Registro JSON\n",
    "\n",
    "```json\n",
    "{\n",
    "  \"id\": \"013ea675-bb58-42f8-a423-f5534546b2b1\",\n",
    "  \"title\": \"Prediction of consensus binding mode geometries for related chemical series of positive allosteric modulators of adenosine and muscarinic acetylcholine receptors\",\n",
    "  \"authors\": [\n",
    "    \"Leon A. Sakkal\",\n",
    "    \"Kyle Z. Rajkowski\",\n",
    "    \"Roger S. Armen\"\n",
    "  ],\n",
    "  \"venue\": \"Journal of Computational Chemistry\",\n",
    "  \"year\": 2017,\n",
    "  \"n_citation\": 0,\n",
    "  \"references\": [\n",
    "    \"4f4f200c-0764-4fef-9718-b8bccf303dba\",\n",
    "    \"aa699fbf-fabe-40e4-bd68-46eaf333f7b1\"\n",
    "  ],\n",
    "  \"abstract\": \"This paper studies ...\"\n",
    "}"
   ]
  },
  {
   "cell_type": "markdown",
   "metadata": {},
   "source": [
    "# Problemas encontrados\n",
    "\n",
    "- Linhas nulas nas colunas: *abstract*, *authors*, *references* e *venue*.\n",
    "- Colunas *id*, *references* e *n_citation* talvez sejam inúteis.\n",
    "    - Como é uma análise temática, talvez apenas as colunas com informações de conteúdo sejam úteis (*title*, *authors*, *abstract*, *year*, *venue*).\n",
    "    - Colunas que representam mais relações que conteúdo, como *id*, *references* e *n_citation* não seriam necessárias, já que não é necessario explorar essas relações para clusterização de temas.\n",
    "    - Talvez no final das conts apenas *title* e *abstract* sejam úteis. Em qustão de conteúdo de verdade elas são mais importantes."
   ]
  }
 ],
 "metadata": {
  "kernelspec": {
   "display_name": "Python 3 (ipykernel)",
   "language": "python",
   "name": "python3"
  },
  "language_info": {
   "codemirror_mode": {
    "name": "ipython",
    "version": 3
   },
   "file_extension": ".py",
   "mimetype": "text/x-python",
   "name": "python",
   "nbconvert_exporter": "python",
   "pygments_lexer": "ipython3",
   "version": "3.13.0"
  }
 },
 "nbformat": 4,
 "nbformat_minor": 4
}
