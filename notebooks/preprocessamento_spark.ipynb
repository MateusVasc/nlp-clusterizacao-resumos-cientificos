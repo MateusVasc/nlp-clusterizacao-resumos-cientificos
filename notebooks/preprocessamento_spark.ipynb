{
 "cells": [
  {
   "cell_type": "code",
   "execution_count": 1,
   "metadata": {},
   "outputs": [],
   "source": [
    "from pyspark.sql import SparkSession\n",
    "from pyspark.sql.functions import udf, col\n",
    "from pyspark.sql.types import ArrayType, StringType\n",
    "\n",
    "import re\n",
    "import nltk\n",
    "\n",
    "from nltk.tokenize import word_tokenize\n",
    "from nltk.corpus import stopwords\n",
    "from nltk.stem import WordNetLemmatizer\n",
    "from nltk.corpus import wordnet"
   ]
  },
  {
   "cell_type": "code",
   "execution_count": 2,
   "metadata": {},
   "outputs": [
    {
     "name": "stderr",
     "output_type": "stream",
     "text": [
      "your 131072x1 screen size is bogus. expect trouble\n",
      "24/12/01 16:40:51 WARN Utils: Your hostname, matt resolves to a loopback address: 127.0.1.1; using 10.255.255.254 instead (on interface lo)\n",
      "24/12/01 16:40:51 WARN Utils: Set SPARK_LOCAL_IP if you need to bind to another address\n",
      "Setting default log level to \"WARN\".\n",
      "To adjust logging level use sc.setLogLevel(newLevel). For SparkR, use setLogLevel(newLevel).\n",
      "24/12/01 16:40:51 WARN NativeCodeLoader: Unable to load native-hadoop library for your platform... using builtin-java classes where applicable\n",
      "24/12/01 16:40:52 WARN Utils: Service 'SparkUI' could not bind on port 4040. Attempting port 4041.\n",
      "[nltk_data] Downloading package punkt to /home/matt/nltk_data...\n",
      "[nltk_data]   Package punkt is already up-to-date!\n",
      "[nltk_data] Downloading package stopwords to /home/matt/nltk_data...\n",
      "[nltk_data]   Package stopwords is already up-to-date!\n",
      "[nltk_data] Downloading package wordnet to /home/matt/nltk_data...\n",
      "[nltk_data]   Package wordnet is already up-to-date!\n",
      "[nltk_data] Downloading package averaged_perceptron_tagger to\n",
      "[nltk_data]     /home/matt/nltk_data...\n",
      "[nltk_data]   Package averaged_perceptron_tagger is already up-to-\n",
      "[nltk_data]       date!\n"
     ]
    },
    {
     "data": {
      "text/plain": [
       "True"
      ]
     },
     "execution_count": 2,
     "metadata": {},
     "output_type": "execute_result"
    }
   ],
   "source": [
    "spark = SparkSession.builder \\\n",
    "    .appName(\"Processamento NLP com PySpark\") \\\n",
    "    .config(\"spark.executor.memory\", \"2g\") \\\n",
    "    .config(\"spark.driver.memory\", \"2g\") \\\n",
    "    .getOrCreate()\n",
    "\n",
    "\n",
    "nltk.download('punkt')\n",
    "nltk.download('stopwords')\n",
    "nltk.download('wordnet')\n",
    "nltk.download('averaged_perceptron_tagger')"
   ]
  },
  {
   "cell_type": "code",
   "execution_count": 3,
   "metadata": {},
   "outputs": [],
   "source": [
    "lemmatizer = WordNetLemmatizer()\n",
    "stop_words = set(stopwords.words('english'))\n",
    "\n",
    "def pipeline_processar_texto(text):\n",
    "    text = text.lower()\n",
    "    text = re.sub(r'https?://\\S+', '', text)  # Remove URLs\n",
    "    text = re.sub(r'[^\\w\\s]', '', text)       # Remove caracteres especiais\n",
    "    text = re.sub(r'\\d', '', text)           # Remove dígitos\n",
    "    tokens = word_tokenize(text)             # Tokeniza o texto\n",
    "    tokens = [t for t in tokens if t not in stop_words]  # Remove stopwords\n",
    "    tokens = [lemmatizer.lemmatize(t) for t in tokens]   # Lemmatiza os tokens\n",
    "    return tokens"
   ]
  },
  {
   "cell_type": "code",
   "execution_count": 4,
   "metadata": {},
   "outputs": [
    {
     "name": "stdout",
     "output_type": "stream",
     "text": [
      "['sample', 'text', 'url', 'number']\n"
     ]
    }
   ],
   "source": [
    "sample_text = \"This is a sample text with a URL https://example.com and numbers 1234.\"\n",
    "print(pipeline_processar_texto(sample_text))"
   ]
  },
  {
   "cell_type": "code",
   "execution_count": 5,
   "metadata": {},
   "outputs": [],
   "source": [
    "df = spark.read.parquet(\"../data/dblp-v10.parquet\")"
   ]
  },
  {
   "cell_type": "code",
   "execution_count": 6,
   "metadata": {},
   "outputs": [
    {
     "name": "stdout",
     "output_type": "stream",
     "text": [
      "Linhas no DataFrame inicial: 1000000\n"
     ]
    }
   ],
   "source": [
    "print(f\"Linhas no DataFrame inicial: {df.count()}\")"
   ]
  },
  {
   "cell_type": "code",
   "execution_count": 7,
   "metadata": {},
   "outputs": [
    {
     "name": "stderr",
     "output_type": "stream",
     "text": [
      "                                                                                \r"
     ]
    },
    {
     "name": "stdout",
     "output_type": "stream",
     "text": [
      "+--------------------+--------------------+----------+--------------------+--------------------+--------------------+----+--------------------+\n",
      "|            abstract|             authors|n_citation|          references|               title|               venue|year|                  id|\n",
      "+--------------------+--------------------+----------+--------------------+--------------------+--------------------+----+--------------------+\n",
      "|In this paper, a ...|['S. Ben Jabra', ...|        50|['09cb2d7d-47d1-4...|A new approach of...|international sym...|2008|4ab3735c-80f1-472...|\n",
      "|We studied an aut...|['Joaquín J. Torr...|        50|['4017c9d2-9845-4...|Attractor neural ...|      Neurocomputing|2007|4ab39729-af77-46f...|\n",
      "|It is well-known ...|['Genevi eve Paqu...|        50|['1c655ee2-067d-4...|A characterizatio...|Electronic Journa...|2007|4ab3a4cf-1d96-4ce...|\n",
      "|One of the fundam...|['Yaser Sheikh', ...|       221|['056116c1-9e7a-4...|Exploring the spa...|international con...|2005|4ab3a98c-3620-47e...|\n",
      "|This paper genera...|['Efraim Laksman'...|         0|['01a765b8-0cb3-4...|Generalized upper...|Ima Journal of Ma...|2015|4ab3b585-82b4-420...|\n",
      "+--------------------+--------------------+----------+--------------------+--------------------+--------------------+----+--------------------+\n",
      "only showing top 5 rows\n",
      "\n"
     ]
    }
   ],
   "source": [
    "df.show(5)"
   ]
  },
  {
   "cell_type": "code",
   "execution_count": 8,
   "metadata": {},
   "outputs": [
    {
     "name": "stdout",
     "output_type": "stream",
     "text": [
      "root\n",
      " |-- abstract: string (nullable = true)\n",
      " |-- authors: string (nullable = true)\n",
      " |-- n_citation: long (nullable = true)\n",
      " |-- references: string (nullable = true)\n",
      " |-- title: string (nullable = true)\n",
      " |-- venue: string (nullable = true)\n",
      " |-- year: long (nullable = true)\n",
      " |-- id: string (nullable = true)\n",
      "\n"
     ]
    }
   ],
   "source": [
    "df.printSchema()"
   ]
  },
  {
   "cell_type": "code",
   "execution_count": 9,
   "metadata": {},
   "outputs": [],
   "source": [
    "# Remover colunas desnecessárias\n",
    "columns_to_drop = ['authors', 'n_citation', 'references', 'year', 'id', 'venue']\n",
    "df = df.drop(*columns_to_drop)"
   ]
  },
  {
   "cell_type": "code",
   "execution_count": 10,
   "metadata": {},
   "outputs": [],
   "source": [
    "# Remover linhas com valores nulos\n",
    "df = df.dropna()"
   ]
  },
  {
   "cell_type": "code",
   "execution_count": 11,
   "metadata": {},
   "outputs": [
    {
     "name": "stdout",
     "output_type": "stream",
     "text": [
      "+--------------------+--------------------+\n",
      "|            abstract|               title|\n",
      "+--------------------+--------------------+\n",
      "|In this paper, a ...|A new approach of...|\n",
      "|We studied an aut...|Attractor neural ...|\n",
      "|It is well-known ...|A characterizatio...|\n",
      "|One of the fundam...|Exploring the spa...|\n",
      "|This paper genera...|Generalized upper...|\n",
      "+--------------------+--------------------+\n",
      "only showing top 5 rows\n",
      "\n"
     ]
    },
    {
     "name": "stderr",
     "output_type": "stream",
     "text": [
      "                                                                                \r"
     ]
    }
   ],
   "source": [
    "df.show(5)"
   ]
  },
  {
   "cell_type": "code",
   "execution_count": 12,
   "metadata": {},
   "outputs": [
    {
     "data": {
      "text/plain": [
       "['abstract', 'title']"
      ]
     },
     "execution_count": 12,
     "metadata": {},
     "output_type": "execute_result"
    }
   ],
   "source": [
    "[col_name for col_name in df.columns if str(df.schema[col_name].dataType) == 'StringType()']"
   ]
  },
  {
   "cell_type": "code",
   "execution_count": 13,
   "metadata": {},
   "outputs": [],
   "source": [
    "# Converter a função de processamento para UDF (User Defined Function)\n",
    "pipeline_udf = udf(pipeline_processar_texto, ArrayType(StringType()))"
   ]
  },
  {
   "cell_type": "code",
   "execution_count": 14,
   "metadata": {},
   "outputs": [],
   "source": [
    "# Aplicar o pipeline de processamento de texto\n",
    "for col_name in [col_name for col_name in df.columns if str(df.schema[col_name].dataType) == 'StringType()']:\n",
    "    df = df.withColumn(col_name, pipeline_udf(col(col_name)))"
   ]
  },
  {
   "cell_type": "code",
   "execution_count": 15,
   "metadata": {},
   "outputs": [
    {
     "name": "stderr",
     "output_type": "stream",
     "text": [
      "[Stage 12:=================================================>        (6 + 1) / 7]\r"
     ]
    },
    {
     "name": "stdout",
     "output_type": "stream",
     "text": [
      "+--------------------+--------------------+\n",
      "|            abstract|               title|\n",
      "+--------------------+--------------------+\n",
      "|[paper, robust, t...|[new, approach, w...|\n",
      "|[studied, autoass...|[attractor, neura...|\n",
      "|[wellknown, sturm...|[characterization...|\n",
      "|[one, fundamental...|[exploring, space...|\n",
      "|[paper, generaliz...|[generalized, upp...|\n",
      "+--------------------+--------------------+\n",
      "only showing top 5 rows\n",
      "\n"
     ]
    },
    {
     "name": "stderr",
     "output_type": "stream",
     "text": [
      "                                                                                \r"
     ]
    }
   ],
   "source": [
    "df.show(5)"
   ]
  },
  {
   "cell_type": "code",
   "execution_count": null,
   "metadata": {},
   "outputs": [],
   "source": [
    "# Consolidar em um único arquivo Parquet\n",
    "df.coalesce(1).write.parquet(\"dblp-v10-processado.parquet\", mode=\"overwrite\")"
   ]
  }
 ],
 "metadata": {
  "kernelspec": {
   "display_name": "nlp-cluster",
   "language": "python",
   "name": "python3"
  },
  "language_info": {
   "codemirror_mode": {
    "name": "ipython",
    "version": 3
   },
   "file_extension": ".py",
   "mimetype": "text/x-python",
   "name": "python",
   "nbconvert_exporter": "python",
   "pygments_lexer": "ipython3",
   "version": "3.10.15"
  }
 },
 "nbformat": 4,
 "nbformat_minor": 4
}
