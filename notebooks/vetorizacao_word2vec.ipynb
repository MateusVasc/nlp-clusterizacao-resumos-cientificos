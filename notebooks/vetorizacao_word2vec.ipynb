{
 "cells": [
  {
   "cell_type": "code",
   "execution_count": null,
   "metadata": {},
   "outputs": [],
   "source": [
    "from pyspark.sql import SparkSession\n",
    "from pyspark.ml.feature import Word2Vec, VectorAssembler, Normalizer"
   ]
  },
  {
   "cell_type": "code",
   "execution_count": null,
   "metadata": {},
   "outputs": [],
   "source": [
    "spark = SparkSession.builder \\\n",
    "    .appName(\"ClusteringWord2Vec\") \\\n",
    "    .config(\"spark.driver.memory\", \"4g\") \\\n",
    "    .config(\"spark.executor.memory\", \"4g\") \\\n",
    "    .getOrCreate()"
   ]
  },
  {
   "cell_type": "code",
   "execution_count": null,
   "metadata": {},
   "outputs": [],
   "source": [
    "df_spark = spark.read.parquet(\"dblp-v10-processado.parquet\")"
   ]
  },
  {
   "cell_type": "code",
   "execution_count": null,
   "metadata": {},
   "outputs": [],
   "source": [
    "# 1. Word2Vec para 'title'\n",
    "word2vec_title = Word2Vec(vectorSize=100, inputCol=\"title\", outputCol=\"title_word2vec\")\n",
    "model_title = word2vec_title.fit(df_spark)\n",
    "df_spark = model_title.transform(df_spark)"
   ]
  },
  {
   "cell_type": "code",
   "execution_count": null,
   "metadata": {},
   "outputs": [],
   "source": [
    "# 2. Word2Vec para 'abstract'\n",
    "word2vec_abstract = Word2Vec(vectorSize=100, inputCol=\"abstract\", outputCol=\"abstract_word2vec\")\n",
    "model_abstract = word2vec_abstract.fit(df_spark)\n",
    "df_spark = model_abstract.transform(df_spark)"
   ]
  },
  {
   "cell_type": "code",
   "execution_count": null,
   "metadata": {},
   "outputs": [],
   "source": [
    "# 3. Combinação dos vetores\n",
    "assembler = VectorAssembler(inputCols=[\"title_word2vec\", \"abstract_word2vec\"], outputCol=\"features\")\n",
    "df_spark = assembler.transform(df_spark)"
   ]
  },
  {
   "cell_type": "code",
   "execution_count": null,
   "metadata": {},
   "outputs": [],
   "source": [
    "# 4. Normalização\n",
    "normalizer = Normalizer(inputCol=\"features\", outputCol=\"norm_features\")\n",
    "df_spark = normalizer.transform(df_spark)"
   ]
  },
  {
   "cell_type": "code",
   "execution_count": null,
   "metadata": {},
   "outputs": [],
   "source": [
    "df_spark.show(5)"
   ]
  },
  {
   "cell_type": "code",
   "execution_count": null,
   "metadata": {},
   "outputs": [],
   "source": [
    "df_spark \\\n",
    "    .coalesce(1) \\\n",
    "    .write.parquet(\"dblp-v10-processado-vetorizado-word2vec.parquet\")"
   ]
  }
 ],
 "metadata": {
  "kernelspec": {
   "display_name": "nlp-cluster",
   "language": "python",
   "name": "python3"
  },
  "language_info": {
   "name": "python",
   "version": "3.10.15"
  }
 },
 "nbformat": 4,
 "nbformat_minor": 2
}
